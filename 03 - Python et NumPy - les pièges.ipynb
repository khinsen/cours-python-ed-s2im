{
 "metadata": {
  "name": "",
  "signature": "sha256:4866da6e5595e0f681f24b273219da131d5bdcd4f02a1a301688134b0652113a"
 },
 "nbformat": 3,
 "nbformat_minor": 0,
 "worksheets": [
  {
   "cells": [
    {
     "cell_type": "markdown",
     "metadata": {},
     "source": [
      "Il y a des pi\u00e8ges que l'on rencontre t\u00f4t ou tard dans la programmation avec Python. Mieux vaux \u00eatre pr\u00e9par\u00e9 !"
     ]
    },
    {
     "cell_type": "code",
     "collapsed": false,
     "input": [
      "import numpy as np"
     ],
     "language": "python",
     "metadata": {},
     "outputs": [],
     "prompt_number": 2
    },
    {
     "cell_type": "heading",
     "level": 1,
     "metadata": {},
     "source": [
      "Bool\u00e9ens et entiers"
     ]
    },
    {
     "cell_type": "code",
     "collapsed": false,
     "input": [
      "2 < 3, \"a\" > \"z\""
     ],
     "language": "python",
     "metadata": {},
     "outputs": [
      {
       "metadata": {},
       "output_type": "pyout",
       "prompt_number": 2,
       "text": [
        "(True, False)"
       ]
      }
     ],
     "prompt_number": 2
    },
    {
     "cell_type": "markdown",
     "metadata": {},
     "source": [
      "Les bool\u00e9ens ne sont en r\u00e9alit\u00e9 que des entiers \u00e0 un bit:"
     ]
    },
    {
     "cell_type": "code",
     "collapsed": false,
     "input": [
      "True == 1, False == 0"
     ],
     "language": "python",
     "metadata": {},
     "outputs": [
      {
       "metadata": {},
       "output_type": "pyout",
       "prompt_number": 69,
       "text": [
        "(True, True)"
       ]
      }
     ],
     "prompt_number": 69
    },
    {
     "cell_type": "code",
     "collapsed": false,
     "input": [
      "True + False"
     ],
     "language": "python",
     "metadata": {},
     "outputs": [
      {
       "metadata": {},
       "output_type": "pyout",
       "prompt_number": 3,
       "text": [
        "1"
       ]
      }
     ],
     "prompt_number": 3
    },
    {
     "cell_type": "code",
     "collapsed": false,
     "input": [
      "2 < 3 + 2, (2 < 3) + 2"
     ],
     "language": "python",
     "metadata": {},
     "outputs": [
      {
       "metadata": {},
       "output_type": "pyout",
       "prompt_number": 5,
       "text": [
        "(True, 3)"
       ]
      }
     ],
     "prompt_number": 5
    },
    {
     "cell_type": "markdown",
     "metadata": {},
     "source": [
      "Ceci est exploit\u00e9 souvent en NumPy, en utilisant le r\u00e9sultat d'une comparaison comme une valeur num\u00e9rique, notamment avec `np.repeat`:"
     ]
    },
    {
     "cell_type": "code",
     "collapsed": false,
     "input": [
      "a = np.arange(5)**2\n",
      "print a\n",
      "print a > 1\n",
      "print np.repeat(a, a > 1)"
     ],
     "language": "python",
     "metadata": {},
     "outputs": [
      {
       "output_type": "stream",
       "stream": "stdout",
       "text": [
        "[ 0  1  4  9 16]\n",
        "[False False  True  True  True]\n",
        "[ 4  9 16]\n"
       ]
      }
     ],
     "prompt_number": 70
    },
    {
     "cell_type": "markdown",
     "metadata": {},
     "source": [
      "NumPy permet d'\u00e9crire `np.repeat` comme indexation:"
     ]
    },
    {
     "cell_type": "code",
     "collapsed": false,
     "input": [
      "a[a > 1]"
     ],
     "language": "python",
     "metadata": {},
     "outputs": [
      {
       "metadata": {},
       "output_type": "pyout",
       "prompt_number": 71,
       "text": [
        "array([ 4,  9, 16])"
       ]
      }
     ],
     "prompt_number": 71
    },
    {
     "cell_type": "markdown",
     "metadata": {},
     "source": [
      "Malheureusement, l'indexation par un tableau (ou une liste) d'entiers \n",
      "sert aussi comme syntax alternatif pour `np.take`:"
     ]
    },
    {
     "cell_type": "code",
     "collapsed": false,
     "input": [
      "print a[[4, 2]]\n",
      "print np.take(a, [4, 2])"
     ],
     "language": "python",
     "metadata": {},
     "outputs": [
      {
       "output_type": "stream",
       "stream": "stdout",
       "text": [
        "[16  4]\n",
        "[16  4]\n"
       ]
      }
     ],
     "prompt_number": 72
    },
    {
     "cell_type": "markdown",
     "metadata": {},
     "source": [
      "Comme les bool\u00e9ens ne sont que des entiers, ceci cr\u00e9e une ambiguit\u00e9 qui est source d'erreurs:"
     ]
    },
    {
     "cell_type": "code",
     "collapsed": false,
     "input": [
      "print a[[True, False, True, False]]\n",
      "print a[[1, 0, 1, 0]]\n",
      "print a[np.array([True, False, True, False])]\n",
      "print a[np.array([1, 0, 1, 0])]"
     ],
     "language": "python",
     "metadata": {},
     "outputs": [
      {
       "output_type": "stream",
       "stream": "stdout",
       "text": [
        "[1 0 1 0]\n",
        "[1 0 1 0]\n",
        "[0 4]\n",
        "[1 0 1 0]\n"
       ]
      }
     ],
     "prompt_number": 17
    },
    {
     "cell_type": "heading",
     "level": 1,
     "metadata": {},
     "source": [
      "Objets muables et immuables"
     ]
    },
    {
     "cell_type": "markdown",
     "metadata": {},
     "source": [
      "Comme vu hier, on peut avoir plusieurs variables dont la valeur est le m\u00eame objet:"
     ]
    },
    {
     "cell_type": "code",
     "collapsed": false,
     "input": [
      "l1 = [1, 2, 3]\n",
      "l2 = l1\n",
      "l1.append(4)\n",
      "l2"
     ],
     "language": "python",
     "metadata": {},
     "outputs": [
      {
       "metadata": {},
       "output_type": "pyout",
       "prompt_number": 21,
       "text": [
        "[1, 2, 3, 4]"
       ]
      }
     ],
     "prompt_number": 21
    },
    {
     "cell_type": "markdown",
     "metadata": {},
     "source": [
      "On peut aussi avoir des r\u00e9f\u00e9rences \u00e0 une liste \u00e0 l'int\u00e9rieur d'une autre liste:"
     ]
    },
    {
     "cell_type": "code",
     "collapsed": false,
     "input": [
      "l = [[1, 2], [3, 4]]\n",
      "l1 = l[0]\n",
      "l2 = l[1]\n",
      "print l1, l2\n",
      "\n",
      "l[0].append(42)\n",
      "print l1, l2"
     ],
     "language": "python",
     "metadata": {},
     "outputs": [
      {
       "output_type": "stream",
       "stream": "stdout",
       "text": [
        "[1, 2] [3, 4]\n",
        "[1, 2, 42] [3, 4]\n"
       ]
      }
     ],
     "prompt_number": 23
    },
    {
     "cell_type": "markdown",
     "metadata": {},
     "source": [
      "Voici une liste dont les deux \u00e9l\u00e9ments sont le m\u00eame objet:"
     ]
    },
    {
     "cell_type": "code",
     "collapsed": false,
     "input": [
      "l = [[1, 2]]\n",
      "l.append(l[0])\n",
      "l[0].append(42)\n",
      "print l"
     ],
     "language": "python",
     "metadata": {},
     "outputs": [
      {
       "output_type": "stream",
       "stream": "stdout",
       "text": [
        "[[1, 2, 42], [1, 2, 42]]\n"
       ]
      }
     ],
     "prompt_number": 24
    },
    {
     "cell_type": "markdown",
     "metadata": {},
     "source": [
      "Il peut alors \u00eatre important de v\u00e9rifier si deux objets sont identiques, ce qui n'est pas la m\u00eame chose qu'\u00eatre \u00e9gal:"
     ]
    },
    {
     "cell_type": "code",
     "collapsed": false,
     "input": [
      "l = [[1, 2]]\n",
      "l.append(l[0])\n",
      "print l\n",
      "\n",
      "m = [[1, 2], [1, 2]]\n",
      "print m\n",
      "\n",
      "print l[0] == l[1]\n",
      "print l[0] is l[1]\n",
      "\n",
      "print m[0] == m[1]\n",
      "print m[0] is m[1]"
     ],
     "language": "python",
     "metadata": {},
     "outputs": [
      {
       "output_type": "stream",
       "stream": "stdout",
       "text": [
        "[[1, 2], [1, 2]]\n",
        "[[1, 2], [1, 2]]\n",
        "True\n",
        "True\n",
        "True\n",
        "False\n"
       ]
      }
     ],
     "prompt_number": 30
    },
    {
     "cell_type": "markdown",
     "metadata": {},
     "source": [
      "Enfin, Python permet de recup\u00e9rer les adresses en m\u00e9moire de chaque objet, ce qui permet aussi de v\u00e9rifier l'identit\u00e9:"
     ]
    },
    {
     "cell_type": "code",
     "collapsed": false,
     "input": [
      "print id(l), id(l[0]), id(l[1])"
     ],
     "language": "python",
     "metadata": {},
     "outputs": [
      {
       "output_type": "stream",
       "stream": "stdout",
       "text": [
        "4373790592 4373957160 4373957160\n"
       ]
      }
     ],
     "prompt_number": 31
    },
    {
     "cell_type": "heading",
     "level": 3,
     "metadata": {},
     "source": [
      "Listes et tuples"
     ]
    },
    {
     "cell_type": "markdown",
     "metadata": {},
     "source": [
      "Un `tuple` est une variante immuable d'une liste:"
     ]
    },
    {
     "cell_type": "code",
     "collapsed": false,
     "input": [
      "(1, 2, 3).append(42)"
     ],
     "language": "python",
     "metadata": {},
     "outputs": [
      {
       "ename": "AttributeError",
       "evalue": "'tuple' object has no attribute 'append'",
       "output_type": "pyerr",
       "traceback": [
        "\u001b[0;31m---------------------------------------------------------------------------\u001b[0m\n\u001b[0;31mAttributeError\u001b[0m                            Traceback (most recent call last)",
        "\u001b[0;32m<ipython-input-33-d6ebffabaf5e>\u001b[0m in \u001b[0;36m<module>\u001b[0;34m()\u001b[0m\n\u001b[0;32m----> 1\u001b[0;31m \u001b[0;34m(\u001b[0m\u001b[0;36m1\u001b[0m\u001b[0;34m,\u001b[0m \u001b[0;36m2\u001b[0m\u001b[0;34m,\u001b[0m \u001b[0;36m3\u001b[0m\u001b[0;34m)\u001b[0m\u001b[0;34m.\u001b[0m\u001b[0mappend\u001b[0m\u001b[0;34m(\u001b[0m\u001b[0;36m42\u001b[0m\u001b[0;34m)\u001b[0m\u001b[0;34m\u001b[0m\u001b[0m\n\u001b[0m",
        "\u001b[0;31mAttributeError\u001b[0m: 'tuple' object has no attribute 'append'"
       ]
      }
     ],
     "prompt_number": 33
    },
    {
     "cell_type": "markdown",
     "metadata": {},
     "source": [
      "Attention: `(x)` est juste `x` en parenth\u00e8ses. Pour un tuple de longueur 1, il faut rajoute une virgule:"
     ]
    },
    {
     "cell_type": "code",
     "collapsed": false,
     "input": [
      "(2,)"
     ],
     "language": "python",
     "metadata": {},
     "outputs": [
      {
       "metadata": {},
       "output_type": "pyout",
       "prompt_number": 66,
       "text": [
        "(2,)"
       ]
      }
     ],
     "prompt_number": 66
    },
    {
     "cell_type": "markdown",
     "metadata": {},
     "source": [
      "Les objects muables, comme par exemple les listes, ne peuvent pas \u00eatre utilis\u00e9s comme cl\u00e9s dans un dictionnaire, parce que un usage comme tent\u00e9 ci-dessous ne serait pas d\u00e9fini:"
     ]
    },
    {
     "cell_type": "code",
     "collapsed": false,
     "input": [
      "l = [1, 2]\n",
      "d = {l : 0}\n",
      "l.append(42)\n",
      "print d[[1, 2]]"
     ],
     "language": "python",
     "metadata": {},
     "outputs": [
      {
       "ename": "TypeError",
       "evalue": "unhashable type: 'list'",
       "output_type": "pyerr",
       "traceback": [
        "\u001b[0;31m---------------------------------------------------------------------------\u001b[0m\n\u001b[0;31mTypeError\u001b[0m                                 Traceback (most recent call last)",
        "\u001b[0;32m<ipython-input-34-780164e73d75>\u001b[0m in \u001b[0;36m<module>\u001b[0;34m()\u001b[0m\n\u001b[1;32m      1\u001b[0m \u001b[0ml\u001b[0m \u001b[0;34m=\u001b[0m \u001b[0;34m[\u001b[0m\u001b[0;36m1\u001b[0m\u001b[0;34m,\u001b[0m \u001b[0;36m2\u001b[0m\u001b[0;34m]\u001b[0m\u001b[0;34m\u001b[0m\u001b[0m\n\u001b[0;32m----> 2\u001b[0;31m \u001b[0md\u001b[0m \u001b[0;34m=\u001b[0m \u001b[0;34m{\u001b[0m\u001b[0ml\u001b[0m \u001b[0;34m:\u001b[0m \u001b[0;36m0\u001b[0m\u001b[0;34m}\u001b[0m\u001b[0;34m\u001b[0m\u001b[0m\n\u001b[0m\u001b[1;32m      3\u001b[0m \u001b[0ml\u001b[0m\u001b[0;34m.\u001b[0m\u001b[0mappend\u001b[0m\u001b[0;34m(\u001b[0m\u001b[0;36m42\u001b[0m\u001b[0;34m)\u001b[0m\u001b[0;34m\u001b[0m\u001b[0m\n\u001b[1;32m      4\u001b[0m \u001b[0;32mprint\u001b[0m \u001b[0md\u001b[0m\u001b[0;34m[\u001b[0m\u001b[0;34m[\u001b[0m\u001b[0;36m1\u001b[0m\u001b[0;34m,\u001b[0m \u001b[0;36m2\u001b[0m\u001b[0;34m]\u001b[0m\u001b[0;34m]\u001b[0m\u001b[0;34m\u001b[0m\u001b[0m\n",
        "\u001b[0;31mTypeError\u001b[0m: unhashable type: 'list'"
       ]
      }
     ],
     "prompt_number": 34
    },
    {
     "cell_type": "heading",
     "level": 3,
     "metadata": {},
     "source": [
      "NumPy: Tableaux et vues"
     ]
    },
    {
     "cell_type": "code",
     "collapsed": false,
     "input": [
      "l1 = [1, 2]\n",
      "l2 = [3, 4]\n",
      "a = np.array([l1, l2])\n",
      "a.dtype"
     ],
     "language": "python",
     "metadata": {},
     "outputs": [
      {
       "metadata": {},
       "output_type": "pyout",
       "prompt_number": 37,
       "text": [
        "dtype('int64')"
       ]
      }
     ],
     "prompt_number": 37
    },
    {
     "cell_type": "code",
     "collapsed": false,
     "input": [
      "b = np.array([None, None])\n",
      "b[0] = l1\n",
      "b[1] = l2\n",
      "print b\n",
      "print b.dtype"
     ],
     "language": "python",
     "metadata": {},
     "outputs": [
      {
       "output_type": "stream",
       "stream": "stdout",
       "text": [
        "[[1, 2] [3, 4]]\n",
        "object\n"
       ]
      }
     ],
     "prompt_number": 40
    },
    {
     "cell_type": "heading",
     "level": 2,
     "metadata": {},
     "source": [
      "Copies"
     ]
    },
    {
     "cell_type": "code",
     "collapsed": false,
     "input": [
      "from copy import copy\n",
      "l1 = [1, 2]\n",
      "l2 = copy(l1)\n",
      "l1.append(42)\n",
      "print l1, l2"
     ],
     "language": "python",
     "metadata": {},
     "outputs": [
      {
       "output_type": "stream",
       "stream": "stdout",
       "text": [
        "[1, 2, 42] [1, 2]\n"
       ]
      }
     ],
     "prompt_number": 42
    },
    {
     "cell_type": "code",
     "collapsed": false,
     "input": [
      "from copy import deepcopy\n",
      "l1 = [1, 2]\n",
      "l2 = copy(l1)\n",
      "l1.append(42)\n",
      "print l1, l2"
     ],
     "language": "python",
     "metadata": {},
     "outputs": [
      {
       "output_type": "stream",
       "stream": "stdout",
       "text": [
        "[1, 2, 42] [1, 2]\n"
       ]
      }
     ],
     "prompt_number": 43
    },
    {
     "cell_type": "markdown",
     "metadata": {},
     "source": [
      "Une copie simple cr\u00e9e une nouvelle liste dont chaque \u00e9l\u00e9ment est identique \u00e0 son homologue de la liste initiale. Une copie profonde cr\u00e9e une nouvelle liste dont chaque \u00e9l\u00e9ment est une copie profonde de son homologue dans la list initiale: "
     ]
    },
    {
     "cell_type": "code",
     "collapsed": false,
     "input": [
      "l1 = [[1, 2], [3, 4]]\n",
      "l2 = copy(l1)\n",
      "l3 = deepcopy(l1)\n",
      "l1.append(42)\n",
      "print l1\n",
      "print l2\n",
      "print l3\n",
      "l1[0].append(\"toto\")\n",
      "print l1\n",
      "print l2\n",
      "print l3"
     ],
     "language": "python",
     "metadata": {},
     "outputs": [
      {
       "output_type": "stream",
       "stream": "stdout",
       "text": [
        "[[1, 2], [3, 4], 42]\n",
        "[[1, 2], [3, 4]]\n",
        "[[1, 2], [3, 4]]\n",
        "[[1, 2, 'toto'], [3, 4], 42]\n",
        "[[1, 2, 'toto'], [3, 4]]\n",
        "[[1, 2], [3, 4]]\n"
       ]
      }
     ],
     "prompt_number": 48
    },
    {
     "cell_type": "heading",
     "level": 1,
     "metadata": {},
     "source": [
      "Les types des \u00e9l\u00e9ments des tableaux"
     ]
    },
    {
     "cell_type": "code",
     "collapsed": false,
     "input": [
      "2**100"
     ],
     "language": "python",
     "metadata": {},
     "outputs": [
      {
       "metadata": {},
       "output_type": "pyout",
       "prompt_number": 55,
       "text": [
        "1267650600228229401496703205376L"
       ]
      }
     ],
     "prompt_number": 55
    },
    {
     "cell_type": "markdown",
     "metadata": {},
     "source": [
      "Python ne pr\u00e9voit qu'un seul type d'entier (`int`) et un seul type de flottant (`float`). NumPy en conna\u00eet plusieurs, plus quelques autres types pour les \u00e9l\u00e9ments d'un tableau:"
     ]
    },
    {
     "cell_type": "code",
     "collapsed": false,
     "input": [
      "np.typeDict.values()"
     ],
     "language": "python",
     "metadata": {},
     "outputs": [
      {
       "metadata": {},
       "output_type": "pyout",
       "prompt_number": 56,
       "text": [
        "[numpy.bool_,\n",
        " numpy.int8,\n",
        " numpy.uint8,\n",
        " numpy.int16,\n",
        " numpy.uint16,\n",
        " numpy.int32,\n",
        " numpy.uint32,\n",
        " numpy.int64,\n",
        " numpy.uint64,\n",
        " numpy.int64,\n",
        " numpy.uint64,\n",
        " numpy.float32,\n",
        " numpy.float64,\n",
        " numpy.float128,\n",
        " numpy.complex64,\n",
        " numpy.complex128,\n",
        " numpy.complex256,\n",
        " numpy.object_,\n",
        " numpy.string_,\n",
        " numpy.unicode_,\n",
        " numpy.void,\n",
        " numpy.datetime64,\n",
        " numpy.unicode_,\n",
        " numpy.float16,\n",
        " numpy.complex128,\n",
        " numpy.float128,\n",
        " numpy.int32,\n",
        " numpy.complex128,\n",
        " numpy.unicode_,\n",
        " numpy.complex128,\n",
        " numpy.timedelta64,\n",
        " numpy.uint16,\n",
        " numpy.complex128,\n",
        " numpy.float32,\n",
        " numpy.complex256,\n",
        " numpy.complex128,\n",
        " numpy.uint16,\n",
        " numpy.void,\n",
        " numpy.unicode_,\n",
        " numpy.uint64,\n",
        " numpy.uint64,\n",
        " numpy.float16,\n",
        " numpy.void,\n",
        " numpy.float64,\n",
        " numpy.int16,\n",
        " numpy.int64,\n",
        " numpy.int64,\n",
        " numpy.complex256,\n",
        " numpy.timedelta64,\n",
        " numpy.object_,\n",
        " numpy.timedelta64,\n",
        " numpy.object_,\n",
        " numpy.bool_,\n",
        " numpy.float128,\n",
        " numpy.datetime64,\n",
        " numpy.string_,\n",
        " numpy.float16,\n",
        " numpy.uint64,\n",
        " numpy.int8,\n",
        " numpy.uint32,\n",
        " numpy.bool_,\n",
        " numpy.void,\n",
        " numpy.complex64,\n",
        " numpy.complex256,\n",
        " numpy.object_,\n",
        " numpy.uint8,\n",
        " numpy.string_,\n",
        " numpy.int8,\n",
        " numpy.uint64,\n",
        " numpy.float128,\n",
        " numpy.float64,\n",
        " numpy.uint16,\n",
        " numpy.float64,\n",
        " numpy.uint64,\n",
        " numpy.object_,\n",
        " numpy.float16,\n",
        " numpy.complex128,\n",
        " numpy.unicode_,\n",
        " numpy.uint64,\n",
        " numpy.int32,\n",
        " numpy.complex64,\n",
        " numpy.datetime64,\n",
        " numpy.float64,\n",
        " numpy.bool_,\n",
        " numpy.bool_,\n",
        " numpy.int64,\n",
        " numpy.uint32,\n",
        " numpy.string_,\n",
        " numpy.uint64,\n",
        " numpy.uint32,\n",
        " numpy.int64,\n",
        " numpy.complex128,\n",
        " numpy.uint8,\n",
        " numpy.complex128,\n",
        " numpy.uint16,\n",
        " numpy.float64,\n",
        " numpy.datetime64,\n",
        " numpy.uint8,\n",
        " numpy.timedelta64,\n",
        " numpy.uint8,\n",
        " numpy.uint64,\n",
        " numpy.complex64,\n",
        " numpy.bool_,\n",
        " numpy.uint8,\n",
        " numpy.complex64,\n",
        " numpy.int64,\n",
        " numpy.int8,\n",
        " numpy.complex64,\n",
        " numpy.void,\n",
        " numpy.int8,\n",
        " numpy.uint64,\n",
        " numpy.int8,\n",
        " numpy.float32,\n",
        " numpy.float64,\n",
        " numpy.uint32,\n",
        " numpy.complex256,\n",
        " numpy.string_,\n",
        " numpy.float128,\n",
        " numpy.float16,\n",
        " numpy.float32,\n",
        " numpy.int32,\n",
        " numpy.int64,\n",
        " numpy.float128,\n",
        " numpy.complex256,\n",
        " numpy.float32,\n",
        " numpy.string_,\n",
        " numpy.int64,\n",
        " numpy.int16,\n",
        " numpy.float64,\n",
        " numpy.complex256,\n",
        " numpy.uint16,\n",
        " numpy.bool_,\n",
        " numpy.float32,\n",
        " numpy.string_,\n",
        " numpy.int64,\n",
        " numpy.int64,\n",
        " numpy.int16,\n",
        " numpy.string_,\n",
        " numpy.uint32,\n",
        " numpy.object_,\n",
        " numpy.datetime64,\n",
        " numpy.int32,\n",
        " numpy.complex64,\n",
        " numpy.uint64,\n",
        " numpy.string_,\n",
        " numpy.unicode_,\n",
        " numpy.string_,\n",
        " numpy.int16,\n",
        " numpy.float16,\n",
        " numpy.int32,\n",
        " numpy.complex256,\n",
        " numpy.timedelta64,\n",
        " numpy.object_,\n",
        " numpy.int64,\n",
        " numpy.float128,\n",
        " numpy.int16,\n",
        " numpy.int64]"
       ]
      }
     ],
     "prompt_number": 56
    },
    {
     "cell_type": "code",
     "collapsed": false,
     "input": [
      "x = np.float128(2)\n",
      "type(x)"
     ],
     "language": "python",
     "metadata": {},
     "outputs": [
      {
       "metadata": {},
       "output_type": "pyout",
       "prompt_number": 59,
       "text": [
        "numpy.float128"
       ]
      }
     ],
     "prompt_number": 59
    },
    {
     "cell_type": "code",
     "collapsed": false,
     "input": [
      "a = np.arange(5, dtype=np.float128)\n",
      "type(a[1])"
     ],
     "language": "python",
     "metadata": {},
     "outputs": [
      {
       "metadata": {},
       "output_type": "pyout",
       "prompt_number": 60,
       "text": [
        "numpy.float128"
       ]
      }
     ],
     "prompt_number": 60
    },
    {
     "cell_type": "markdown",
     "metadata": {},
     "source": [
      "Normalement, quand on combine des valeurs de pr\u00e9cisions diff\u00e9rente, le r\u00e9sultat a la pr\u00e9cision la plus grande:"
     ]
    },
    {
     "cell_type": "code",
     "collapsed": false,
     "input": [
      "type(2.2*a[1])"
     ],
     "language": "python",
     "metadata": {},
     "outputs": [
      {
       "metadata": {},
       "output_type": "pyout",
       "prompt_number": 63,
       "text": [
        "numpy.float128"
       ]
      }
     ],
     "prompt_number": 63
    },
    {
     "cell_type": "code",
     "collapsed": false,
     "input": [
      "type(np.float32(2)*np.float64(3))"
     ],
     "language": "python",
     "metadata": {},
     "outputs": [
      {
       "metadata": {},
       "output_type": "pyout",
       "prompt_number": 64,
       "text": [
        "numpy.float64"
       ]
      }
     ],
     "prompt_number": 64
    },
    {
     "cell_type": "markdown",
     "metadata": {},
     "source": [
      "Mais ceci ne s'applique pas aux tableaux:"
     ]
    },
    {
     "cell_type": "code",
     "collapsed": false,
     "input": [
      "a = np.arange(5, dtype=np.float32)\n",
      "b = np.float64(2)\n",
      "(a*b).dtype"
     ],
     "language": "python",
     "metadata": {},
     "outputs": [
      {
       "metadata": {},
       "output_type": "pyout",
       "prompt_number": 65,
       "text": [
        "dtype('float32')"
       ]
      }
     ],
     "prompt_number": 65
    },
    {
     "cell_type": "markdown",
     "metadata": {},
     "source": [
      "En fait, on utilise des tableaux compact (`float32`) principalement pour reduire l'occupation de m\u00e9moire. Il faut donc \u00e9viter de les convertir \u00e0 un type d'\u00e9l\u00e9ment plus grand."
     ]
    }
   ],
   "metadata": {}
  }
 ]
}