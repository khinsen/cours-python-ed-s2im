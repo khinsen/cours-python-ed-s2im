{
 "metadata": {
  "name": "",
  "signature": "sha256:08742347083cba74b6ae7120a5fba87e7e16f8b112654757ceb26013210e9fcf"
 },
 "nbformat": 3,
 "nbformat_minor": 0,
 "worksheets": [
  {
   "cells": [
    {
     "cell_type": "code",
     "collapsed": false,
     "input": [
      "import numpy as np"
     ],
     "language": "python",
     "metadata": {},
     "outputs": [],
     "prompt_number": 2
    },
    {
     "cell_type": "heading",
     "level": 3,
     "metadata": {},
     "source": [
      "Triangle"
     ]
    },
    {
     "cell_type": "markdown",
     "metadata": {},
     "source": [
      "Write a program that calculates the area $A$ of a triangle using the\n",
      "formula\n",
      "\n",
      "$A = \\frac{1}{2} \\left|\\left(\\mathbf{p}_1-\\mathbf{p}_2\\right)\n",
      "     \\times \\left(\\mathbf{p}_3-\\mathbf{p}_2\\right)\\right|$\n",
      "     \n",
      "Ici $\\mathbf{p}_i$ sont des points dans l'espace, avec trois composantes $x$, $y$, $z$. Il est recommend\u00e9 d'utiliser un tableau NumPy de taille 3 pour chaque point."
     ]
    },
    {
     "cell_type": "code",
     "collapsed": false,
     "input": [
      "p1 = np.array([0., 0., 0.])\n",
      "p2 = np.array([0., 1., 0.])\n",
      "p3 = np.array([1., 0., 0.])\n",
      "\n",
      "r12 = p1-p2\n",
      "r32 = p3-p2\n",
      "c = np.cross(r12, r32)\n",
      "A = 0.5*np.sqrt(np.dot(c,c))\n",
      "\n",
      "print A\n",
      "\n",
      "print A == 0.5 ### risqu\u00e9 !!!\n",
      "print abs(A-0.5) < 1.e-5"
     ],
     "language": "python",
     "metadata": {},
     "outputs": [
      {
       "output_type": "stream",
       "stream": "stdout",
       "text": [
        "0.5\n",
        "True\n",
        "True\n"
       ]
      }
     ],
     "prompt_number": 3
    },
    {
     "cell_type": "heading",
     "level": 3,
     "metadata": {},
     "source": [
      "Lecture d'un fichier"
     ]
    },
    {
     "cell_type": "markdown",
     "metadata": {},
     "source": [
      "Write a program that reads a file containing a table of numbers and\n",
      "sums up all numbers in the second column."
     ]
    },
    {
     "cell_type": "code",
     "collapsed": false,
     "input": [
      "for line in open('my_data.txt').readlines():\n",
      "    print line.strip()"
     ],
     "language": "python",
     "metadata": {},
     "outputs": [
      {
       "output_type": "stream",
       "stream": "stdout",
       "text": [
        "0   1   2 3\n",
        "2.4 2.6 2 0\n",
        "1. -1   0 0\n"
       ]
      }
     ],
     "prompt_number": 24
    },
    {
     "cell_type": "code",
     "collapsed": false,
     "input": [
      "sum = 0.\n",
      "for line in open('my_data.txt'):\n",
      "    sum = sum + float(line.split()[1])\n",
      "print sum"
     ],
     "language": "python",
     "metadata": {},
     "outputs": [
      {
       "output_type": "stream",
       "stream": "stdout",
       "text": [
        "2.6\n"
       ]
      }
     ],
     "prompt_number": 19
    },
    {
     "cell_type": "heading",
     "level": 3,
     "metadata": {},
     "source": [
      "Mol\u00e9cules"
     ]
    },
    {
     "cell_type": "markdown",
     "metadata": {},
     "source": [
      "The XYZ format is a very simple (and limited) format\n",
      "for storing molecular configurations, which is used by several\n",
      "programs. The first line contains the number of atoms, the second line\n",
      "a comment, and the remaining lines contain one atom each, with four\n",
      "entries: first the element symbol (e.g. 'C' for carbon), and then the\n",
      "coordinates x, y, and z. The entries are separated by one or more\n",
      "spaces. This is an example for a single water molecule:\n",
      "\n",
      "   ```\n",
      "   3\n",
      "   One water molecule\n",
      "   O 0.  0.     0.\n",
      "   H 0.  0.957  0.\n",
      "   H 0. -0.24  -0.927\n",
      "   ```\n",
      "   \n",
      "Write a program that counts the number of atoms of each chemical element."
     ]
    },
    {
     "cell_type": "code",
     "collapsed": false,
     "input": [
      "lines = file('molecule.xyz').readlines()\n",
      "natoms = int(lines[0])\n",
      "counts = {}\n",
      "for line in lines[2:2+natoms]:\n",
      "    element = line.split()[0]\n",
      "    counts[element] = counts.get(element, 0) + 1\n",
      "print counts"
     ],
     "language": "python",
     "metadata": {},
     "outputs": [
      {
       "output_type": "stream",
       "stream": "stdout",
       "text": [
        "{'H': 2, 'O': 1}\n"
       ]
      }
     ],
     "prompt_number": 18
    },
    {
     "cell_type": "heading",
     "level": 3,
     "metadata": {},
     "source": [
      "Cr\u00e9ation de tableaux"
     ]
    },
    {
     "cell_type": "markdown",
     "metadata": {},
     "source": [
      "Create these two arrays:\n",
      "\n",
      "```\n",
      "[[0. 0. 0. 0. 0.]\n",
      " [2. 0. 0. 0. 0.]\n",
      " [0. 3. 0. 0. 0.]\n",
      " [0. 0. 4. 0. 0.]\n",
      " [0. 0. 0. 5. 0.]\n",
      " [0. 0. 0. 0. 6.]]\n",
      "```\n",
      "\n",
      "```\n",
      "[[ 1  1  1  1]\n",
      " [ 1  1  1  1]\n",
      " [ 1  1  1  2]\n",
      " [ 1  6  1  1]]\n",
      "```"
     ]
    },
    {
     "cell_type": "markdown",
     "metadata": {},
     "source": [
      "La fa\u00e7on la plus simple est de cr\u00e9er un tableau plus grand mais diagonal, puis enlever la premi\u00e8re colonne:"
     ]
    },
    {
     "cell_type": "code",
     "collapsed": false,
     "input": [
      "np.diag(np.arange(1, 7, dtype=np.float))[:,1:]"
     ],
     "language": "python",
     "metadata": {},
     "outputs": [
      {
       "metadata": {},
       "output_type": "pyout",
       "prompt_number": 4,
       "text": [
        "array([[ 0.,  0.,  0.,  0.,  0.],\n",
        "       [ 2.,  0.,  0.,  0.,  0.],\n",
        "       [ 0.,  3.,  0.,  0.,  0.],\n",
        "       [ 0.,  0.,  4.,  0.,  0.],\n",
        "       [ 0.,  0.,  0.,  5.,  0.],\n",
        "       [ 0.,  0.,  0.,  0.,  6.]])"
       ]
      }
     ],
     "prompt_number": 4
    },
    {
     "cell_type": "markdown",
     "metadata": {},
     "source": [
      "On peut aussi \"coller\" une ligne de zeros au-dessus d'une matrice diagonale:"
     ]
    },
    {
     "cell_type": "code",
     "collapsed": false,
     "input": [
      "np.concatenate([np.zeros((1, 5)),\n",
      "                np.diag(np.arange(2., 7.))],\n",
      "               axis=0)\n"
     ],
     "language": "python",
     "metadata": {},
     "outputs": [
      {
       "metadata": {},
       "output_type": "pyout",
       "prompt_number": 9,
       "text": [
        "array([[ 0.,  0.,  0.,  0.,  0.],\n",
        "       [ 2.,  0.,  0.,  0.,  0.],\n",
        "       [ 0.,  3.,  0.,  0.,  0.],\n",
        "       [ 0.,  0.,  4.,  0.,  0.],\n",
        "       [ 0.,  0.,  0.,  5.,  0.],\n",
        "       [ 0.,  0.,  0.,  0.,  6.]])"
       ]
      }
     ],
     "prompt_number": 9
    },
    {
     "cell_type": "markdown",
     "metadata": {},
     "source": [
      "Pour le deuxi\u00e8me tableau, il n'y a pas de r\u00e9gularit\u00e9 exploitable, donc on le compose \u00e0 la main:"
     ]
    },
    {
     "cell_type": "code",
     "collapsed": false,
     "input": [
      "a = np.zeros((4, 4), dtype=np.int)+1\n",
      "a[2, -1] = 2\n",
      "a[3, 1] = 6\n",
      "a"
     ],
     "language": "python",
     "metadata": {},
     "outputs": []
    },
    {
     "cell_type": "heading",
     "level": 3,
     "metadata": {},
     "source": [
      "Produit tensoriel"
     ]
    },
    {
     "cell_type": "markdown",
     "metadata": {},
     "source": [
      "Write a function that takes two 1-d array arguments $a$ and $b$ and\n",
      "returns their tensorial product, a 2-d array whose elements are\n",
      "defined by $t_{ij} = a_i \\times b_j$.\n",
      "\n",
      "Note: il y a une fonction NumPy qui fait \u00e7a mais il est plus instructif de le faire \"\u00e0 la main\"."
     ]
    },
    {
     "cell_type": "code",
     "collapsed": false,
     "input": [
      "def produit_tensoriel(a, b):\n",
      "    return a[:, np.newaxis]*b[np.newaxis, :]\n",
      "\n",
      "produit_tensoriel(np.array([-2, -1, 1, 2]),\n",
      "                  np.arange(5))"
     ],
     "language": "python",
     "metadata": {},
     "outputs": [
      {
       "metadata": {},
       "output_type": "pyout",
       "prompt_number": 13,
       "text": [
        "array([[ 0, -2, -4, -6, -8],\n",
        "       [ 0, -1, -2, -3, -4],\n",
        "       [ 0,  1,  2,  3,  4],\n",
        "       [ 0,  2,  4,  6,  8]])"
       ]
      }
     ],
     "prompt_number": 13
    },
    {
     "cell_type": "heading",
     "level": 3,
     "metadata": {},
     "source": [
      "Elements positifs"
     ]
    },
    {
     "cell_type": "markdown",
     "metadata": {},
     "source": [
      "Write a function that takes a 1-d array argument and returns another\n",
      "1-d array which contains only the positive elements of the argument."
     ]
    },
    {
     "cell_type": "code",
     "collapsed": false,
     "input": [
      "def elements_positifs(a):\n",
      "    return np.repeat(a, a > 0)\n",
      "\n",
      "a = np.array([0, 1, 2, -3, 4, -1, 2])\n",
      "print elements_positifs(a)\n",
      "print np.take(a, np.where(a > 0))[0]"
     ],
     "language": "python",
     "metadata": {},
     "outputs": [
      {
       "output_type": "stream",
       "stream": "stdout",
       "text": [
        "[1 2 4 2]\n",
        "[1 2 4 2]\n"
       ]
      }
     ],
     "prompt_number": 30
    },
    {
     "cell_type": "heading",
     "level": 3,
     "metadata": {},
     "source": [
      "D\u00e9riv\u00e9s num\u00e9riques"
     ]
    },
    {
     "cell_type": "markdown",
     "metadata": {},
     "source": [
      "Write a function that takes a 2-d $N\\times 2$ array $f$ that\n",
      "represents a function $y(x)$ evaluated on a grid. $f[:, 0]$ contains\n",
      "the $x$-values in increasing order (but not necessarily equidistant).\n",
      "$f[:, 1]$ contains the $y$-value. The return value is an array\n",
      "representing the numerical derivative $y'(x)$ using the same\n",
      "arrangement."
     ]
    },
    {
     "cell_type": "code",
     "collapsed": false,
     "input": [
      "def diff(f):\n",
      "    x = f[:, 0]\n",
      "    y = f[:, 1]\n",
      "    x_diff = x[1:]-x[:-1]\n",
      "    y_diff = y[1:]-y[:-1]\n",
      "    x_m = 0.5*(x[1:]+x[:-1])\n",
      "    return np.transpose(np.array([x_m, y_diff/x_diff]))\n",
      "\n",
      "x = np.arange(0., 0.1, 0.01)\n",
      "y = x**2\n",
      "diff(np.transpose(np.array([x, y])))"
     ],
     "language": "python",
     "metadata": {},
     "outputs": [
      {
       "metadata": {},
       "output_type": "pyout",
       "prompt_number": 16,
       "text": [
        "array([[ 0.005,  0.01 ],\n",
        "       [ 0.015,  0.03 ],\n",
        "       [ 0.025,  0.05 ],\n",
        "       [ 0.035,  0.07 ],\n",
        "       [ 0.045,  0.09 ],\n",
        "       [ 0.055,  0.11 ],\n",
        "       [ 0.065,  0.13 ],\n",
        "       [ 0.075,  0.15 ],\n",
        "       [ 0.085,  0.17 ]])"
       ]
      }
     ],
     "prompt_number": 16
    },
    {
     "cell_type": "heading",
     "level": 3,
     "metadata": {},
     "source": [
      "Polyn\u00f4mes"
     ]
    },
    {
     "cell_type": "markdown",
     "metadata": {},
     "source": [
      "Write a function that fits a set of data points $(x, y)$ to a polynomial of a given order $N$,\n",
      "$ P_N(x) = \\sum_{i=0}^{N} a_i x^i $,\n",
      "and returns the fitted coefficients $a_i$.\n",
      "\n",
      "Don't forget error checking: the number of data points must be greater than the number of polynomial coefficients!\n",
      "\n",
      "Hint: Write the fitting problem as a linear least-squares fit problem of the form\n",
      "$  \\min_{a_j} \\sum_{j=0}^{N} (M_{ij} a_j - y_i)^2 $,\n",
      "where the elements of $M_{ij}$ are powers of the $x_i$. Use `numpy.linalg.lstsq` to solve this least-squares problem."
     ]
    },
    {
     "cell_type": "code",
     "collapsed": false,
     "input": [
      "import numpy.linalg\n",
      "\n",
      "x = np.arange(0., 1., 0.1)\n",
      "y = x**2 - x + 0.5\n",
      "N = 2\n",
      "\n",
      "M = x[:, np.newaxis] ** np.arange(N+1)\n",
      "a = numpy.linalg.lstsq(M, y)[0]\n",
      "print a"
     ],
     "language": "python",
     "metadata": {},
     "outputs": [
      {
       "output_type": "stream",
       "stream": "stdout",
       "text": [
        "[ 0.5 -1.   1. ]\n"
       ]
      }
     ],
     "prompt_number": 36
    }
   ],
   "metadata": {}
  }
 ]
}